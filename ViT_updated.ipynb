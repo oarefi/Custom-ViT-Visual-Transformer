{
  "nbformat": 4,
  "nbformat_minor": 0,
  "metadata": {
    "colab": {
      "provenance": [],
      "machine_shape": "hm",
      "gpuType": "V100"
    },
    "kernelspec": {
      "name": "python3",
      "display_name": "Python 3"
    },
    "language_info": {
      "name": "python"
    },
    "accelerator": "GPU"
  },
  "cells": [
    {
      "cell_type": "code",
      "execution_count": null,
      "metadata": {
        "id": "D94Lh4bP8dD9"
      },
      "outputs": [],
      "source": []
    },
    {
      "cell_type": "code",
      "source": [],
      "metadata": {
        "id": "OPrD-dwy9R44"
      },
      "execution_count": null,
      "outputs": []
    },
    {
      "cell_type": "code",
      "source": [
        "import numpy as np\n",
        "import torch\n",
        "import torch.nn as nn\n",
        "from torch.optim import Adam, lr_scheduler\n",
        "from torch.nn import CrossEntropyLoss\n",
        "from torch.utils.data import DataLoader\n",
        "from torchvision.transforms import ToTensor, RandomRotation, RandomCrop\n",
        "from torchvision.datasets.mnist import MNIST\n",
        "from sklearn.metrics import classification_report, confusion_matrix\n",
        "import matplotlib.pyplot as plt\n",
        "import seaborn as sns\n"
      ],
      "metadata": {
        "id": "-f_1suSF9R69"
      },
      "execution_count": 1,
      "outputs": []
    },
    {
      "cell_type": "code",
      "source": [
        "np.random.seed(0)\n",
        "torch.manual_seed(0)\n"
      ],
      "metadata": {
        "colab": {
          "base_uri": "https://localhost:8080/"
        },
        "id": "SWjzClYc9SZ4",
        "outputId": "24f9c217-12ea-427f-8ecf-103cf64173bd"
      },
      "execution_count": 2,
      "outputs": [
        {
          "output_type": "execute_result",
          "data": {
            "text/plain": [
              "<torch._C.Generator at 0x7df090289990>"
            ]
          },
          "metadata": {},
          "execution_count": 2
        }
      ]
    },
    {
      "cell_type": "code",
      "source": [
        "import torch\n",
        "import torch.nn as nn\n",
        "import torch.nn.functional as F\n",
        "\n",
        "def create_patches(images, n_patches):\n",
        "    \"\"\"\n",
        "    Create patches from input images.\n",
        "\n",
        "    Args:\n",
        "    - images (Tensor): Input images of shape (n, c, h, w).\n",
        "    - n_patches (int): Number of patches per dimension.\n",
        "\n",
        "    Returns:\n",
        "    - Tensor: Patches of the images.\n",
        "    \"\"\"\n",
        "    n, c, h, w = images.shape\n",
        "    #This line extracts the dimensions of the input images stored in the images tensor. n is the number of images in the batch, c is the number of color channels (e.g., 3 for RGB),\n",
        "    #and h and w are the height and width of the images, respectively.\n",
        "    patch_size = h // n_patches\n",
        "    #Here, the height (h) of the images is divided by n_patches to determine the size of each patch. It's assumed that the number of patches is the same in both height and width dimensions,\n",
        "    #and that the height and width of the images are divisible by n_patches. The // operator performs integer division.\n",
        "    patches = images.unfold(2, patch_size, patch_size).unfold(3, patch_size, patch_size)\n",
        "    patches = patches.permute(0, 2, 3, 1, 4, 5).flatten(1, 2).flatten(2, -1)\n",
        "    return patches\n",
        "\n",
        "class MultiHeadSelfAttention(nn.Module):\n",
        "    def __init__(self, d, n_heads=4):  # Increased number of heads\n",
        "        \"\"\"\n",
        "        Initialize the MultiHeadSelfAttention module.\n",
        "\n",
        "        Args:\n",
        "        - d (int): Dimension of the input features.\n",
        "        - n_heads (int): Number of attention heads.\n",
        "        \"\"\"\n",
        "        super(MultiHeadSelfAttention, self).__init__()\n",
        "        self.d = d\n",
        "        self.n_heads = n_heads\n",
        "        self.d_head = d // n_heads\n",
        "\n",
        "        assert d % n_heads == 0, \"Dimension must be divisible by the number of heads.\"\n",
        "\n",
        "        self.q_mappings = nn.Linear(d, d)\n",
        "        self.k_mappings = nn.Linear(d, d)\n",
        "        self.v_mappings = nn.Linear(d, d)\n",
        "        self.softmax = nn.Softmax(dim=-1)\n",
        "\n",
        "    def forward(self, sequences):\n",
        "        batch_size, seq_length, _ = sequences.size()\n",
        "\n",
        "        q = self.q_mappings(sequences).view(batch_size, seq_length, self.n_heads, self.d_head).permute(0, 2, 1, 3)\n",
        "        k = self.k_mappings(sequences).view(batch_size, seq_length, self.n_heads, self.d_head).permute(0, 2, 1, 3)\n",
        "        v = self.v_mappings(sequences).view(batch_size, seq_length, self.n_heads, self.d_head).permute(0, 2, 1, 3)\n",
        "\n",
        "        attention = self.softmax(torch.matmul(q, k.transpose(-2, -1)) / (self.d_head ** 0.5))\n",
        "        output = torch.matmul(attention, v).permute(0, 2, 1, 3).contiguous().view(batch_size, seq_length, self.d)\n",
        "\n",
        "        return output\n",
        "\n",
        "class ViTBlock(nn.Module):\n",
        "    def __init__(self, hidden_dim=64, n_heads=4, mlp_ratio=6):  # Increased hidden_dim and mlp_ratio\n",
        "        \"\"\"\n",
        "        Initialize the Vision Transformer Block.\n",
        "\n",
        "        Args:\n",
        "        - hidden_dim (int): Dimension of hidden layers.\n",
        "        - n_heads (int): Number of attention heads.\n",
        "        - mlp_ratio (int): Ratio for the MLP dimension.\n",
        "        \"\"\"\n",
        "        super(ViTBlock, self).__init__()\n",
        "        self.norm1 = nn.LayerNorm(hidden_dim)\n",
        "        self.mhsa = MultiHeadSelfAttention(hidden_dim, n_heads)\n",
        "        self.mlp = nn.Sequential(\n",
        "            nn.Linear(hidden_dim, mlp_ratio * hidden_dim),\n",
        "            nn.GELU(),\n",
        "            nn.Linear(mlp_ratio * hidden_dim, hidden_dim)\n",
        "        )\n",
        "\n",
        "    def forward(self, x):\n",
        "        x = self.norm1(x)\n",
        "        x = x + self.mhsa(x)\n",
        "        x = x + self.mlp(x)\n",
        "        return x\n",
        "\n",
        "# VisionTransformer class and get_positional_embeddings function\n",
        "# continue here...\n",
        "\n"
      ],
      "metadata": {
        "id": "pEWJaoCGfnmE"
      },
      "execution_count": 3,
      "outputs": []
    },
    {
      "cell_type": "code",
      "source": [
        "class VisionTransformer(nn.Module):\n",
        "    def __init__(self, chw, n_patches=7, n_blocks=8, hidden_dim=64, n_heads=4, output_dim=10):\n",
        "        \"\"\"\n",
        "        Initialize the Vision Transformer.\n",
        "\n",
        "        Args:\n",
        "        - chw (tuple): Channels, Height, and Width of the input image.\n",
        "        - n_patches (int): Number of patches per dimension.\n",
        "        - n_blocks (int): Number of transformer blocks.\n",
        "        - hidden_dim (int): Dimension of hidden layers in the transformer blocks.\n",
        "        - n_heads (int): Number of attention heads.\n",
        "        - output_dim (int): Output dimension (number of classes for classification).\n",
        "        \"\"\"\n",
        "        super(VisionTransformer, self).__init__()\n",
        "\n",
        "        self.chw = chw\n",
        "        self.n_patches = n_patches\n",
        "        self.hidden_dim = hidden_dim\n",
        "\n",
        "        assert chw[1] % n_patches == 0 and chw[2] % n_patches == 0, \"Image dimensions must be divisible by the number of patches.\"\n",
        "        self.patch_size = (chw[1] // n_patches, chw[2] // n_patches)\n",
        "\n",
        "        self.input_dim = chw[0] * self.patch_size[0] * self.patch_size[1]\n",
        "        self.linear_mapper = nn.Linear(self.input_dim, hidden_dim)\n",
        "        self.class_token = nn.Parameter(torch.randn(1, 1, hidden_dim))\n",
        "        self.positional_embeddings = nn.Parameter(torch.randn(1, n_patches**2 + 1, hidden_dim))\n",
        "\n",
        "        self.blocks = nn.ModuleList([ViTBlock(hidden_dim, n_heads) for _ in range(n_blocks)])\n",
        "\n",
        "        self.mlp_head = nn.Sequential(\n",
        "            nn.LayerNorm(hidden_dim),\n",
        "            nn.Linear(hidden_dim, output_dim)\n",
        "        )\n",
        "\n",
        "    def forward(self, images):\n",
        "        n, _, _, _ = images.shape\n",
        "        patches = create_patches(images, self.n_patches)\n",
        "        x = self.linear_mapper(patches).view(n, -1, self.hidden_dim)\n",
        "        class_tokens = self.class_token.expand(n, -1, -1)\n",
        "        x = torch.cat((class_tokens, x), dim=1)\n",
        "        x += self.positional_embeddings\n",
        "\n",
        "        for block in self.blocks:\n",
        "            x = block(x)\n",
        "\n",
        "        x = self.mlp_head(x[:, 0])\n",
        "        return x\n"
      ],
      "metadata": {
        "id": "s6HZvUxTMIFt"
      },
      "execution_count": 4,
      "outputs": []
    },
    {
      "cell_type": "code",
      "source": [
        "def get_positional_embeddings(sequence_length, d):\n",
        "    positions = torch.arange(sequence_length, dtype=torch.float32).unsqueeze(1)\n",
        "    div_term = torch.exp(torch.arange(0, d, 2, dtype=torch.float32) * -(torch.log(torch.tensor(10000.0)) / d))\n",
        "    embeddings = torch.zeros(sequence_length, d)\n",
        "    embeddings[:, 0::2] = torch.sin(positions / div_term)\n",
        "    embeddings[:, 1::2] = torch.cos(positions / div_term)\n",
        "    return embeddings\n"
      ],
      "metadata": {
        "id": "YMDZTBhA9c5F"
      },
      "execution_count": 5,
      "outputs": []
    },
    {
      "cell_type": "code",
      "source": [
        "def data_augmentation(images):\n",
        "    transform = nn.Sequential(\n",
        "        RandomRotation(10),\n",
        "        RandomCrop(28, padding=4)\n",
        "    )\n",
        "    augmented_images = [transform(image) for image in images]\n",
        "    return torch.stack(augmented_images)\n"
      ],
      "metadata": {
        "id": "FqxE6SLB9epC"
      },
      "execution_count": 6,
      "outputs": []
    },
    {
      "cell_type": "code",
      "source": [
        "def train_and_evaluate(model, train_loader, test_loader, optimizer, criterion, scheduler, device):\n",
        "    n_epochs = 50  # You might want to adjust this for NAS\n",
        "\n",
        "    best_accuracy = 0.0\n",
        "    for epoch in range(n_epochs):\n",
        "        model.train()\n",
        "        train_loss = 0.0\n",
        "        for batch in train_loader:\n",
        "            x, y = batch\n",
        "            x, y = x.to(device), y.to(device)\n",
        "            x = data_augmentation(x)  # Apply data augmentation\n",
        "            y_hat = model(x)\n",
        "            loss = criterion(y_hat, y)\n",
        "            optimizer.zero_grad()\n",
        "            loss.backward()\n",
        "            optimizer.step()\n",
        "            train_loss += loss.item() * x.size(0)\n",
        "        train_loss /= len(train_loader.dataset)\n",
        "\n",
        "        model.eval()\n",
        "        test_loss = 0.0\n",
        "        accuracy = 0.0\n",
        "        with torch.no_grad():\n",
        "            for batch in test_loader:\n",
        "                x, y = batch\n",
        "                x, y = x.to(device), y.to(device)\n",
        "                y_hat = model(x)\n",
        "                loss = criterion(y_hat, y)\n",
        "                test_loss += loss.item() * x.size(0)\n",
        "                _, predicted_labels = torch.max(y_hat, 1)\n",
        "                accuracy += (predicted_labels == y).sum().item()\n",
        "\n",
        "        test_loss /= len(test_loader.dataset)\n",
        "        accuracy /= len(test_loader.dataset)\n",
        "        best_accuracy = max(best_accuracy, accuracy)\n",
        "\n",
        "        print(f\"Epoch {epoch+1}/{n_epochs}, Train Loss: {train_loss:.4f}, Test Loss: {test_loss:.4f}, Accuracy: {accuracy:.4f}\")\n",
        "\n",
        "        # Adjust learning rate based on test loss\n",
        "        scheduler.step(test_loss)\n",
        "\n",
        "    return train_loss, best_accuracy\n"
      ],
      "metadata": {
        "id": "HHxKJiIw9f62"
      },
      "execution_count": 7,
      "outputs": []
    },
    {
      "cell_type": "code",
      "source": [
        "def visualize_predictions(model, data_loader, device, num_images=16):\n",
        "    model.eval()\n",
        "    images, labels = next(iter(data_loader))\n",
        "    images, labels = images.to(device), labels.to(device)\n",
        "    outputs = model(images)\n",
        "    _, predicted = torch.max(outputs, 1)\n",
        "\n",
        "    plt.figure(figsize=(10, 10))\n",
        "    for i in range(num_images):\n",
        "        plt.subplot(int(num_images**0.5), int(num_images**0.5), i + 1)\n",
        "        plt.imshow(images[i].cpu().squeeze(), cmap='gray')\n",
        "        plt.title(f'Actual: {labels[i].item()}, Predicted: {predicted[i].item()}')\n",
        "        plt.axis('off')\n",
        "    plt.show()\n"
      ],
      "metadata": {
        "id": "9ToLng1u9gQq"
      },
      "execution_count": 8,
      "outputs": []
    },
    {
      "cell_type": "code",
      "source": [
        "# Set device\n",
        "device = torch.device(\"cuda\" if torch.cuda.is_available() else \"cpu\")\n",
        "\n",
        "# Load MNIST dataset\n",
        "train_dataset = MNIST(root=\"./data\", train=True, transform=ToTensor(), download=True)\n",
        "test_dataset = MNIST(root=\"./data\", train=False, transform=ToTensor(), download=True)\n",
        "\n",
        "# Create data loaders\n",
        "train_loader = DataLoader(train_dataset, batch_size=64, shuffle=True)\n",
        "test_loader = DataLoader(test_dataset, batch_size=64, shuffle=False)\n",
        "\n",
        "# Create model\n",
        "model = VisionTransformer(chw=(1, 28, 28)).to(device)\n",
        "\n",
        "# Define loss function and optimizer\n",
        "criterion = CrossEntropyLoss()\n",
        "optimizer = Adam(model.parameters(), lr=0.001)\n",
        "scheduler = lr_scheduler.ReduceLROnPlateau(optimizer, mode='min', factor=0.1, patience=1, verbose=True)\n",
        "\n",
        "# Train and evaluate the model\n",
        "train_and_evaluate(model, train_loader, test_loader, optimizer, criterion, scheduler, device)\n",
        "\n",
        "# Visualize predictions\n",
        "visualize_predictions(model, test_loader, device)\n"
      ],
      "metadata": {
        "colab": {
          "base_uri": "https://localhost:8080/",
          "height": 1000
        },
        "id": "VN0FZFdm-ecA",
        "outputId": "7958ec52-4ad6-4999-a69f-3a12288859e8"
      },
      "execution_count": 9,
      "outputs": [
        {
          "output_type": "stream",
          "name": "stdout",
          "text": [
            "Downloading http://yann.lecun.com/exdb/mnist/train-images-idx3-ubyte.gz\n",
            "Downloading http://yann.lecun.com/exdb/mnist/train-images-idx3-ubyte.gz to ./data/MNIST/raw/train-images-idx3-ubyte.gz\n"
          ]
        },
        {
          "output_type": "stream",
          "name": "stderr",
          "text": [
            "100%|██████████| 9912422/9912422 [00:00<00:00, 268095482.56it/s]"
          ]
        },
        {
          "output_type": "stream",
          "name": "stdout",
          "text": [
            "Extracting ./data/MNIST/raw/train-images-idx3-ubyte.gz to ./data/MNIST/raw\n"
          ]
        },
        {
          "output_type": "stream",
          "name": "stderr",
          "text": [
            "\n"
          ]
        },
        {
          "output_type": "stream",
          "name": "stdout",
          "text": [
            "\n",
            "Downloading http://yann.lecun.com/exdb/mnist/train-labels-idx1-ubyte.gz\n",
            "Downloading http://yann.lecun.com/exdb/mnist/train-labels-idx1-ubyte.gz to ./data/MNIST/raw/train-labels-idx1-ubyte.gz\n"
          ]
        },
        {
          "output_type": "stream",
          "name": "stderr",
          "text": [
            "100%|██████████| 28881/28881 [00:00<00:00, 23668560.73it/s]\n"
          ]
        },
        {
          "output_type": "stream",
          "name": "stdout",
          "text": [
            "Extracting ./data/MNIST/raw/train-labels-idx1-ubyte.gz to ./data/MNIST/raw\n",
            "\n",
            "Downloading http://yann.lecun.com/exdb/mnist/t10k-images-idx3-ubyte.gz\n",
            "Downloading http://yann.lecun.com/exdb/mnist/t10k-images-idx3-ubyte.gz to ./data/MNIST/raw/t10k-images-idx3-ubyte.gz\n"
          ]
        },
        {
          "output_type": "stream",
          "name": "stderr",
          "text": [
            "100%|██████████| 1648877/1648877 [00:00<00:00, 59047098.37it/s]"
          ]
        },
        {
          "output_type": "stream",
          "name": "stdout",
          "text": [
            "Extracting ./data/MNIST/raw/t10k-images-idx3-ubyte.gz to ./data/MNIST/raw\n"
          ]
        },
        {
          "output_type": "stream",
          "name": "stderr",
          "text": [
            "\n"
          ]
        },
        {
          "output_type": "stream",
          "name": "stdout",
          "text": [
            "\n",
            "Downloading http://yann.lecun.com/exdb/mnist/t10k-labels-idx1-ubyte.gz\n",
            "Downloading http://yann.lecun.com/exdb/mnist/t10k-labels-idx1-ubyte.gz to ./data/MNIST/raw/t10k-labels-idx1-ubyte.gz\n"
          ]
        },
        {
          "output_type": "stream",
          "name": "stderr",
          "text": [
            "100%|██████████| 4542/4542 [00:00<00:00, 15692363.07it/s]\n"
          ]
        },
        {
          "output_type": "stream",
          "name": "stdout",
          "text": [
            "Extracting ./data/MNIST/raw/t10k-labels-idx1-ubyte.gz to ./data/MNIST/raw\n",
            "\n",
            "Epoch 1/50, Train Loss: 1.8105, Test Loss: 0.9642, Accuracy: 0.6629\n",
            "Epoch 2/50, Train Loss: 0.7481, Test Loss: 0.3040, Accuracy: 0.9103\n",
            "Epoch 3/50, Train Loss: 0.4020, Test Loss: 0.1975, Accuracy: 0.9345\n",
            "Epoch 4/50, Train Loss: 0.3025, Test Loss: 0.1698, Accuracy: 0.9480\n",
            "Epoch 5/50, Train Loss: 0.2611, Test Loss: 0.1442, Accuracy: 0.9548\n",
            "Epoch 6/50, Train Loss: 0.2297, Test Loss: 0.1556, Accuracy: 0.9521\n",
            "Epoch 7/50, Train Loss: 0.2070, Test Loss: 0.1135, Accuracy: 0.9658\n",
            "Epoch 8/50, Train Loss: 0.1947, Test Loss: 0.1056, Accuracy: 0.9663\n",
            "Epoch 9/50, Train Loss: 0.1870, Test Loss: 0.1158, Accuracy: 0.9634\n",
            "Epoch 10/50, Train Loss: 0.1725, Test Loss: 0.0906, Accuracy: 0.9736\n",
            "Epoch 11/50, Train Loss: 0.1674, Test Loss: 0.0778, Accuracy: 0.9754\n",
            "Epoch 12/50, Train Loss: 0.1592, Test Loss: 0.0914, Accuracy: 0.9719\n",
            "Epoch 13/50, Train Loss: 0.1539, Test Loss: 0.1041, Accuracy: 0.9697\n",
            "Epoch 00013: reducing learning rate of group 0 to 1.0000e-04.\n",
            "Epoch 14/50, Train Loss: 0.0970, Test Loss: 0.0487, Accuracy: 0.9852\n",
            "Epoch 15/50, Train Loss: 0.0780, Test Loss: 0.0459, Accuracy: 0.9858\n",
            "Epoch 16/50, Train Loss: 0.0741, Test Loss: 0.0445, Accuracy: 0.9857\n",
            "Epoch 17/50, Train Loss: 0.0720, Test Loss: 0.0435, Accuracy: 0.9869\n",
            "Epoch 18/50, Train Loss: 0.0658, Test Loss: 0.0406, Accuracy: 0.9874\n",
            "Epoch 19/50, Train Loss: 0.0651, Test Loss: 0.0389, Accuracy: 0.9872\n",
            "Epoch 20/50, Train Loss: 0.0618, Test Loss: 0.0369, Accuracy: 0.9890\n",
            "Epoch 21/50, Train Loss: 0.0601, Test Loss: 0.0381, Accuracy: 0.9876\n",
            "Epoch 22/50, Train Loss: 0.0571, Test Loss: 0.0364, Accuracy: 0.9878\n",
            "Epoch 23/50, Train Loss: 0.0582, Test Loss: 0.0357, Accuracy: 0.9889\n",
            "Epoch 24/50, Train Loss: 0.0557, Test Loss: 0.0376, Accuracy: 0.9875\n",
            "Epoch 25/50, Train Loss: 0.0556, Test Loss: 0.0357, Accuracy: 0.9883\n",
            "Epoch 00025: reducing learning rate of group 0 to 1.0000e-05.\n",
            "Epoch 26/50, Train Loss: 0.0529, Test Loss: 0.0351, Accuracy: 0.9886\n",
            "Epoch 27/50, Train Loss: 0.0498, Test Loss: 0.0343, Accuracy: 0.9888\n",
            "Epoch 28/50, Train Loss: 0.0482, Test Loss: 0.0340, Accuracy: 0.9888\n",
            "Epoch 29/50, Train Loss: 0.0493, Test Loss: 0.0339, Accuracy: 0.9886\n",
            "Epoch 30/50, Train Loss: 0.0495, Test Loss: 0.0334, Accuracy: 0.9891\n",
            "Epoch 31/50, Train Loss: 0.0498, Test Loss: 0.0334, Accuracy: 0.9890\n",
            "Epoch 32/50, Train Loss: 0.0481, Test Loss: 0.0332, Accuracy: 0.9889\n",
            "Epoch 33/50, Train Loss: 0.0459, Test Loss: 0.0333, Accuracy: 0.9892\n",
            "Epoch 34/50, Train Loss: 0.0465, Test Loss: 0.0327, Accuracy: 0.9896\n",
            "Epoch 35/50, Train Loss: 0.0450, Test Loss: 0.0327, Accuracy: 0.9897\n",
            "Epoch 36/50, Train Loss: 0.0463, Test Loss: 0.0325, Accuracy: 0.9896\n",
            "Epoch 37/50, Train Loss: 0.0466, Test Loss: 0.0323, Accuracy: 0.9893\n",
            "Epoch 38/50, Train Loss: 0.0459, Test Loss: 0.0314, Accuracy: 0.9898\n",
            "Epoch 39/50, Train Loss: 0.0463, Test Loss: 0.0322, Accuracy: 0.9896\n",
            "Epoch 40/50, Train Loss: 0.0451, Test Loss: 0.0319, Accuracy: 0.9896\n",
            "Epoch 00040: reducing learning rate of group 0 to 1.0000e-06.\n",
            "Epoch 41/50, Train Loss: 0.0448, Test Loss: 0.0319, Accuracy: 0.9895\n",
            "Epoch 42/50, Train Loss: 0.0453, Test Loss: 0.0317, Accuracy: 0.9892\n",
            "Epoch 00042: reducing learning rate of group 0 to 1.0000e-07.\n",
            "Epoch 43/50, Train Loss: 0.0451, Test Loss: 0.0316, Accuracy: 0.9892\n",
            "Epoch 44/50, Train Loss: 0.0455, Test Loss: 0.0316, Accuracy: 0.9892\n",
            "Epoch 00044: reducing learning rate of group 0 to 1.0000e-08.\n",
            "Epoch 45/50, Train Loss: 0.0444, Test Loss: 0.0316, Accuracy: 0.9892\n",
            "Epoch 46/50, Train Loss: 0.0451, Test Loss: 0.0316, Accuracy: 0.9892\n",
            "Epoch 47/50, Train Loss: 0.0439, Test Loss: 0.0316, Accuracy: 0.9892\n",
            "Epoch 48/50, Train Loss: 0.0442, Test Loss: 0.0316, Accuracy: 0.9892\n",
            "Epoch 49/50, Train Loss: 0.0443, Test Loss: 0.0316, Accuracy: 0.9892\n",
            "Epoch 50/50, Train Loss: 0.0435, Test Loss: 0.0316, Accuracy: 0.9892\n"
          ]
        },
        {
          "output_type": "display_data",
          "data": {
            "text/plain": [
              "<Figure size 1000x1000 with 16 Axes>"
            ],
            "image/png": "[encoded data removed]"
          },
          "metadata": {}
        }
      ]
    },
    {
      "cell_type": "code",
      "source": [
        "\n",
        "\n",
        "for name, param in model.named_parameters():\n",
        "    print(f\"{name}: {param.size()}\")\n"
      ],
      "metadata": {
        "id": "2Tzw_EuT-kUN",
        "colab": {
          "base_uri": "https://localhost:8080/"
        },
        "outputId": "c783beff-425f-4f46-ff09-ae0a76f391b8"
      },
      "execution_count": 11,
      "outputs": [
        {
          "output_type": "stream",
          "name": "stdout",
          "text": [
            "class_token: torch.Size([1, 1, 64])\n",
            "positional_embeddings: torch.Size([1, 50, 64])\n",
            "linear_mapper.weight: torch.Size([64, 16])\n",
            "linear_mapper.bias: torch.Size([64])\n",
            "blocks.0.norm1.weight: torch.Size([64])\n",
            "blocks.0.norm1.bias: torch.Size([64])\n",
            "blocks.0.mhsa.q_mappings.weight: torch.Size([64, 64])\n",
            "blocks.0.mhsa.q_mappings.bias: torch.Size([64])\n",
            "blocks.0.mhsa.k_mappings.weight: torch.Size([64, 64])\n",
            "blocks.0.mhsa.k_mappings.bias: torch.Size([64])\n",
            "blocks.0.mhsa.v_mappings.weight: torch.Size([64, 64])\n",
            "blocks.0.mhsa.v_mappings.bias: torch.Size([64])\n",
            "blocks.0.mlp.0.weight: torch.Size([384, 64])\n",
            "blocks.0.mlp.0.bias: torch.Size([384])\n",
            "blocks.0.mlp.2.weight: torch.Size([64, 384])\n",
            "blocks.0.mlp.2.bias: torch.Size([64])\n",
            "blocks.1.norm1.weight: torch.Size([64])\n",
            "blocks.1.norm1.bias: torch.Size([64])\n",
            "blocks.1.mhsa.q_mappings.weight: torch.Size([64, 64])\n",
            "blocks.1.mhsa.q_mappings.bias: torch.Size([64])\n",
            "blocks.1.mhsa.k_mappings.weight: torch.Size([64, 64])\n",
            "blocks.1.mhsa.k_mappings.bias: torch.Size([64])\n",
            "blocks.1.mhsa.v_mappings.weight: torch.Size([64, 64])\n",
            "blocks.1.mhsa.v_mappings.bias: torch.Size([64])\n",
            "blocks.1.mlp.0.weight: torch.Size([384, 64])\n",
            "blocks.1.mlp.0.bias: torch.Size([384])\n",
            "blocks.1.mlp.2.weight: torch.Size([64, 384])\n",
            "blocks.1.mlp.2.bias: torch.Size([64])\n",
            "blocks.2.norm1.weight: torch.Size([64])\n",
            "blocks.2.norm1.bias: torch.Size([64])\n",
            "blocks.2.mhsa.q_mappings.weight: torch.Size([64, 64])\n",
            "blocks.2.mhsa.q_mappings.bias: torch.Size([64])\n",
            "blocks.2.mhsa.k_mappings.weight: torch.Size([64, 64])\n",
            "blocks.2.mhsa.k_mappings.bias: torch.Size([64])\n",
            "blocks.2.mhsa.v_mappings.weight: torch.Size([64, 64])\n",
            "blocks.2.mhsa.v_mappings.bias: torch.Size([64])\n",
            "blocks.2.mlp.0.weight: torch.Size([384, 64])\n",
            "blocks.2.mlp.0.bias: torch.Size([384])\n",
            "blocks.2.mlp.2.weight: torch.Size([64, 384])\n",
            "blocks.2.mlp.2.bias: torch.Size([64])\n",
            "blocks.3.norm1.weight: torch.Size([64])\n",
            "blocks.3.norm1.bias: torch.Size([64])\n",
            "blocks.3.mhsa.q_mappings.weight: torch.Size([64, 64])\n",
            "blocks.3.mhsa.q_mappings.bias: torch.Size([64])\n",
            "blocks.3.mhsa.k_mappings.weight: torch.Size([64, 64])\n",
            "blocks.3.mhsa.k_mappings.bias: torch.Size([64])\n",
            "blocks.3.mhsa.v_mappings.weight: torch.Size([64, 64])\n",
            "blocks.3.mhsa.v_mappings.bias: torch.Size([64])\n",
            "blocks.3.mlp.0.weight: torch.Size([384, 64])\n",
            "blocks.3.mlp.0.bias: torch.Size([384])\n",
            "blocks.3.mlp.2.weight: torch.Size([64, 384])\n",
            "blocks.3.mlp.2.bias: torch.Size([64])\n",
            "blocks.4.norm1.weight: torch.Size([64])\n",
            "blocks.4.norm1.bias: torch.Size([64])\n",
            "blocks.4.mhsa.q_mappings.weight: torch.Size([64, 64])\n",
            "blocks.4.mhsa.q_mappings.bias: torch.Size([64])\n",
            "blocks.4.mhsa.k_mappings.weight: torch.Size([64, 64])\n",
            "blocks.4.mhsa.k_mappings.bias: torch.Size([64])\n",
            "blocks.4.mhsa.v_mappings.weight: torch.Size([64, 64])\n",
            "blocks.4.mhsa.v_mappings.bias: torch.Size([64])\n",
            "blocks.4.mlp.0.weight: torch.Size([384, 64])\n",
            "blocks.4.mlp.0.bias: torch.Size([384])\n",
            "blocks.4.mlp.2.weight: torch.Size([64, 384])\n",
            "blocks.4.mlp.2.bias: torch.Size([64])\n",
            "blocks.5.norm1.weight: torch.Size([64])\n",
            "blocks.5.norm1.bias: torch.Size([64])\n",
            "blocks.5.mhsa.q_mappings.weight: torch.Size([64, 64])\n",
            "blocks.5.mhsa.q_mappings.bias: torch.Size([64])\n",
            "blocks.5.mhsa.k_mappings.weight: torch.Size([64, 64])\n",
            "blocks.5.mhsa.k_mappings.bias: torch.Size([64])\n",
            "blocks.5.mhsa.v_mappings.weight: torch.Size([64, 64])\n",
            "blocks.5.mhsa.v_mappings.bias: torch.Size([64])\n",
            "blocks.5.mlp.0.weight: torch.Size([384, 64])\n",
            "blocks.5.mlp.0.bias: torch.Size([384])\n",
            "blocks.5.mlp.2.weight: torch.Size([64, 384])\n",
            "blocks.5.mlp.2.bias: torch.Size([64])\n",
            "blocks.6.norm1.weight: torch.Size([64])\n",
            "blocks.6.norm1.bias: torch.Size([64])\n",
            "blocks.6.mhsa.q_mappings.weight: torch.Size([64, 64])\n",
            "blocks.6.mhsa.q_mappings.bias: torch.Size([64])\n",
            "blocks.6.mhsa.k_mappings.weight: torch.Size([64, 64])\n",
            "blocks.6.mhsa.k_mappings.bias: torch.Size([64])\n",
            "blocks.6.mhsa.v_mappings.weight: torch.Size([64, 64])\n",
            "blocks.6.mhsa.v_mappings.bias: torch.Size([64])\n",
            "blocks.6.mlp.0.weight: torch.Size([384, 64])\n",
            "blocks.6.mlp.0.bias: torch.Size([384])\n",
            "blocks.6.mlp.2.weight: torch.Size([64, 384])\n",
            "blocks.6.mlp.2.bias: torch.Size([64])\n",
            "blocks.7.norm1.weight: torch.Size([64])\n",
            "blocks.7.norm1.bias: torch.Size([64])\n",
            "blocks.7.mhsa.q_mappings.weight: torch.Size([64, 64])\n",
            "blocks.7.mhsa.q_mappings.bias: torch.Size([64])\n",
            "blocks.7.mhsa.k_mappings.weight: torch.Size([64, 64])\n",
            "blocks.7.mhsa.k_mappings.bias: torch.Size([64])\n",
            "blocks.7.mhsa.v_mappings.weight: torch.Size([64, 64])\n",
            "blocks.7.mhsa.v_mappings.bias: torch.Size([64])\n",
            "blocks.7.mlp.0.weight: torch.Size([384, 64])\n",
            "blocks.7.mlp.0.bias: torch.Size([384])\n",
            "blocks.7.mlp.2.weight: torch.Size([64, 384])\n",
            "blocks.7.mlp.2.bias: torch.Size([64])\n",
            "mlp_head.0.weight: torch.Size([64])\n",
            "mlp_head.0.bias: torch.Size([64])\n",
            "mlp_head.1.weight: torch.Size([10, 64])\n",
            "mlp_head.1.bias: torch.Size([10])\n"
          ]
        }
      ]
    },
    {
      "cell_type": "code",
      "source": [
        "total_params = sum(p.numel() for p in model.parameters())\n",
        "print(f\"Total number of parameters: {total_params}\")\n"
      ],
      "metadata": {
        "colab": {
          "base_uri": "https://localhost:8080/"
        },
        "id": "441XV_4mh40X",
        "outputId": "2ae208d6-4697-4415-a570-b78d8e95cf25"
      },
      "execution_count": 12,
      "outputs": [
        {
          "output_type": "stream",
          "name": "stdout",
          "text": [
            "Total number of parameters: 502794\n"
          ]
        }
      ]
    },
    {
      "cell_type": "code",
      "source": [
        "trainable_params = sum(p.numel() for p in model.parameters() if p.requires_grad)\n",
        "print(f\"Number of trainable parameters: {trainable_params}\")\n"
      ],
      "metadata": {
        "colab": {
          "base_uri": "https://localhost:8080/"
        },
        "id": "Pwz4f1n0h839",
        "outputId": "09e6d2d1-68f3-4d79-ba4d-6b2dc7c8af70"
      },
      "execution_count": 13,
      "outputs": [
        {
          "output_type": "stream",
          "name": "stdout",
          "text": [
            "Number of trainable parameters: 502794\n"
          ]
        }
      ]
    },
    {
      "cell_type": "code",
      "source": [],
      "metadata": {
        "id": "Zikhlfyeh_e5"
      },
      "execution_count": null,
      "outputs": []
    }
  ]
}